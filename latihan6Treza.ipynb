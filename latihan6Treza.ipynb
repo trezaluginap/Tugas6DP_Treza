{
 "cells": [
  {
   "cell_type": "code",
   "execution_count": 2,
   "id": "b3f37ff0",
   "metadata": {},
   "outputs": [
    {
     "name": "stdout",
     "output_type": "stream",
     "text": [
      "masukkan umur anak (tahun): 8\n",
      "masukkan tinggi anak (cm): 170\n",
      "harga untu anak dengan umur 8 tahun dan tinggi 170 cm adalah 70000\n"
     ]
    }
   ],
   "source": [
    "umur = int(input(\"masukkan umur anak (tahun): \"))\n",
    "tinggi = int(input(\"masukkan tinggi anak (cm): \"))\n",
    "harga = 0\n",
    "text_harga = \"harga untu anak dengan umur {} tahun dan tinggi {} cm adalah {}\"\n",
    "\n",
    "if(umur <2):\n",
    "    print(\"dilarang masuk\")\n",
    "    \n",
    "elif(umur < 4):\n",
    "    harga = 30000\n",
    "    if(tinggi >70):\n",
    "        harga += 10000\n",
    "    print(text_harga.format(umur, tinggi, harga))\n",
    "\n",
    "elif(umur < 7):\n",
    "    harga = 40000\n",
    "    if(tinggi >120):\n",
    "        harga += 15000\n",
    "    print(text_harga.format(umur, tinggi, harga))\n",
    "    \n",
    "elif(umur <10):\n",
    "    harga = 50000\n",
    "    if(tinggi >150):\n",
    "        harga += 20000\n",
    "    print(text_harga.format(umur, tinggi, harga))\n",
    "    \n",
    "else:\n",
    "    harga = 80000\n",
    "    print(text_harga.format(umur, tinggi, harga))"
   ]
  },
  {
   "cell_type": "code",
   "execution_count": 4,
   "id": "c04842c4",
   "metadata": {},
   "outputs": [
    {
     "name": "stdout",
     "output_type": "stream",
     "text": [
      "apakah kamu melakukan olahraga lari jawab ya/tidak: ya\n",
      "berapa menit? 9\n",
      "apakah kamu melakukan olahraga PushUp jawab ya/tidak: ya\n",
      "berapa menit? 20\n",
      "apakah kamu melakukan olahraga plank jawab ya/tidak: ya\n",
      "berapa menit? 9\n",
      "\n",
      "Kalori yang terbakar dari tubuhmu adalah: 286\n"
     ]
    }
   ],
   "source": [
    "kalori = 0\n",
    "\n",
    "lari = input(\"apakah kamu melakukan olahraga lari jawab ya/tidak: \")\n",
    "if(lari):\n",
    "    menit = int(input(\"berapa menit? \"))\n",
    "    kalori += menit * (60/5)\n",
    "    \n",
    "PushUp = input(\"apakah kamu melakukan olahraga PushUp jawab ya/tidak: \")\n",
    "if(PushUp):\n",
    "    menit = int(input(\"berapa menit? \"))\n",
    "    kalori += menit * (200/30)\n",
    "\n",
    "plank = input(\"apakah kamu melakukan olahraga plank jawab ya/tidak: \")\n",
    "if(plank):\n",
    "    menit = int(input(\"berapa menit? \"))\n",
    "    kalori += menit * 5\n",
    "    \n",
    "kalori = round(kalori)\n",
    "\n",
    "if(kalori > 0):\n",
    "    print(f\"\\nKalori yang terbakar dari tubuhmu adalah:\",kalori)"
   ]
  },
  {
   "cell_type": "code",
   "execution_count": null,
   "id": "b9edbb83",
   "metadata": {},
   "outputs": [],
   "source": []
  }
 ],
 "metadata": {
  "kernelspec": {
   "display_name": "Python 3 (ipykernel)",
   "language": "python",
   "name": "python3"
  },
  "language_info": {
   "codemirror_mode": {
    "name": "ipython",
    "version": 3
   },
   "file_extension": ".py",
   "mimetype": "text/x-python",
   "name": "python",
   "nbconvert_exporter": "python",
   "pygments_lexer": "ipython3",
   "version": "3.9.12"
  }
 },
 "nbformat": 4,
 "nbformat_minor": 5
}
